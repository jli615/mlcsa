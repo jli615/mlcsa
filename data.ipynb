{
 "cells": [
  {
   "cell_type": "markdown",
   "metadata": {},
   "source": [
    "## importing"
   ]
  },
  {
   "cell_type": "code",
   "execution_count": 25,
   "metadata": {},
   "outputs": [],
   "source": [
    "#basic packages\n",
    "import pandas as pd\n",
    "import numpy as np\n",
    "import matplotlib.pyplot as plt\n",
    "\n",
    "#sklearn models\n",
    "from sklearn.linear_model import RidgeClassifier\n",
    "from sklearn.neighbors import KNeighborsClassifier\n",
    "from sklearn.tree import DecisionTreeClassifier\n",
    "from sklearn.ensemble import RandomForestClassifier\n",
    "from sklearn.model_selection import train_test_split\n",
    "\n",
    "#encoder\n",
    "from sklearn.preprocessing import LabelEncoder\n",
    "\n",
    "#metrics\n",
    "from sklearn import metrics\n",
    "\n",
    "#tensorflow\n",
    "import tensorflow as tf\n",
    "\n",
    "#random\n",
    "import random\n",
    "from datetime import datetime"
   ]
  },
  {
   "cell_type": "markdown",
   "metadata": {},
   "source": [
    "## data processing"
   ]
  },
  {
   "cell_type": "code",
   "execution_count": 26,
   "metadata": {},
   "outputs": [],
   "source": [
    "data = pd.read_csv('/Users/jlisd/Downloads/MLProject/iris.data', names = ['sepal length (cm)', 'sepal width (cm)', 'petal length (cm)', 'petal width (cm)', 'class'])\n",
    "#data.head()"
   ]
  },
  {
   "cell_type": "code",
   "execution_count": 27,
   "metadata": {},
   "outputs": [],
   "source": [
    "x1 = data[['sepal length (cm)', 'sepal width (cm)', 'petal length (cm)', 'petal width (cm)']]\n",
    "X = data[['sepal length (cm)', 'sepal width (cm)', 'petal length (cm)', 'petal width (cm)']].values\n",
    "#X.head()"
   ]
  },
  {
   "cell_type": "code",
   "execution_count": 28,
   "metadata": {},
   "outputs": [],
   "source": [
    "y1 = data[['class']]\n",
    "Y_raw = data[['class']].values\n",
    "#Y.head()"
   ]
  },
  {
   "cell_type": "code",
   "execution_count": 29,
   "metadata": {},
   "outputs": [
    {
     "name": "stderr",
     "output_type": "stream",
     "text": [
      "C:\\Users\\jlisd\\Anaconda3\\lib\\site-packages\\sklearn\\preprocessing\\_label.py:251: DataConversionWarning: A column-vector y was passed when a 1d array was expected. Please change the shape of y to (n_samples, ), for example using ravel().\n",
      "  y = column_or_1d(y, warn=True)\n"
     ]
    }
   ],
   "source": [
    "encoder =  LabelEncoder()\n",
    "Y1 = encoder.fit_transform(Y_raw)\n",
    "#print(Y1)"
   ]
  },
  {
   "cell_type": "code",
   "execution_count": 30,
   "metadata": {},
   "outputs": [],
   "source": [
    "Y = pd.get_dummies(Y1).values"
   ]
  },
  {
   "cell_type": "code",
   "execution_count": 31,
   "metadata": {},
   "outputs": [],
   "source": [
    "#print(X[0:5])\n",
    "#print(Y[0:5])"
   ]
  },
  {
   "cell_type": "markdown",
   "metadata": {},
   "source": [
    "## creating the random state"
   ]
  },
  {
   "cell_type": "code",
   "execution_count": 32,
   "metadata": {},
   "outputs": [],
   "source": [
    "random_state = random.seed(datetime.now())\n",
    "test_size = 0.5"
   ]
  },
  {
   "cell_type": "code",
   "execution_count": 33,
   "metadata": {},
   "outputs": [],
   "source": [
    "X_train, X_test, Y_train, Y_test = train_test_split(X, Y, test_size = test_size, random_state = random_state)\n",
    "x_train, x_test, y_train, y_test = train_test_split(x1, y1, test_size = test_size, random_state = random_state)\n",
    "#print(\"data size: \" + str(len(X.index)))\n",
    "#print(\"training size: \" + str(len(X_train.index)))\n",
    "#print(\"test size: \" + str(len(X_test.index)))"
   ]
  },
  {
   "cell_type": "markdown",
   "metadata": {},
   "source": [
    " ## model building"
   ]
  },
  {
   "cell_type": "code",
   "execution_count": 35,
   "metadata": {},
   "outputs": [
    {
     "name": "stdout",
     "output_type": "stream",
     "text": [
      "K Nearest Neighbors model accuracy: 0.9733333333333334\n"
     ]
    }
   ],
   "source": [
    "knn = KNeighborsClassifier()\n",
    "knn.fit(x_train, y_train.values.ravel())\n",
    "knn_prediction = knn.predict(x_test)\n",
    "print(\"K Nearest Neighbors model accuracy: \" + str(metrics.accuracy_score(knn_prediction, y_test)))"
   ]
  },
  {
   "cell_type": "code",
   "execution_count": 37,
   "metadata": {},
   "outputs": [
    {
     "name": "stdout",
     "output_type": "stream",
     "text": [
      "Ridge model accuracy: 0.8\n"
     ]
    }
   ],
   "source": [
    "ridge = RidgeClassifier()\n",
    "ridge.fit(x_train, y_train.values.ravel())\n",
    "ridge_prediction = ridge.predict(x_test)\n",
    "print(\"Ridge model accuracy: \" + str(metrics.accuracy_score(ridge_prediction, y_test)))"
   ]
  },
  {
   "cell_type": "code",
   "execution_count": 38,
   "metadata": {},
   "outputs": [
    {
     "name": "stdout",
     "output_type": "stream",
     "text": [
      "Decision tree model accuracy: 0.9733333333333334\n"
     ]
    }
   ],
   "source": [
    "dt = DecisionTreeClassifier(max_depth = 3, random_state = random_state)\n",
    "dt.fit(x_train, y_train)\n",
    "dt_prediction = dt.predict(x_test)\n",
    "print(\"Decision tree model accuracy: \" + str(metrics.accuracy_score(dt_prediction, y_test)))"
   ]
  },
  {
   "cell_type": "code",
   "execution_count": 41,
   "metadata": {},
   "outputs": [
    {
     "name": "stdout",
     "output_type": "stream",
     "text": [
      "Decision tree model accuracy: 0.96\n"
     ]
    }
   ],
   "source": [
    "rf = RandomForestClassifier()\n",
    "rf.fit(x_train, y_train.values.ravel())\n",
    "rf_prediction = rf.predict(x_test)\n",
    "print(\"Random Forest model accuracy: \" + str(metrics.accuracy_score(rf_prediction, y_test)))"
   ]
  },
  {
   "cell_type": "markdown",
   "metadata": {},
   "source": [
    "## tensorflow model"
   ]
  },
  {
   "cell_type": "code",
   "execution_count": 38,
   "metadata": {},
   "outputs": [
    {
     "data": {
      "text/plain": [
       "<tensorflow.python.keras.engine.sequential.Sequential at 0x2238c5cb188>"
      ]
     },
     "execution_count": 38,
     "metadata": {},
     "output_type": "execute_result"
    }
   ],
   "source": [
    "model = tf.keras.Sequential([\n",
    "    tf.keras.layers.Dense(10, activation='relu'),\n",
    "    tf.keras.layers.Dense(10, activation='relu'),\n",
    "    tf.keras.layers.Dense(3, activation='softmax')\n",
    "  ])\n",
    "model"
   ]
  },
  {
   "cell_type": "code",
   "execution_count": 39,
   "metadata": {},
   "outputs": [],
   "source": [
    "model.compile(optimizer='rmsprop', loss='categorical_crossentropy', metrics=['accuracy'])"
   ]
  },
  {
   "cell_type": "code",
   "execution_count": 40,
   "metadata": {},
   "outputs": [
    {
     "name": "stdout",
     "output_type": "stream",
     "text": [
      "Epoch 1/100\n",
      "75/75 [==============================] - 0s 2ms/sample - loss: 3.4109 - acc: 0.3200\n",
      "Epoch 2/100\n",
      "75/75 [==============================] - 0s 80us/sample - loss: 3.1858 - acc: 0.3200\n",
      "Epoch 3/100\n",
      "75/75 [==============================] - 0s 80us/sample - loss: 3.0322 - acc: 0.3200\n",
      "Epoch 4/100\n",
      "75/75 [==============================] - 0s 106us/sample - loss: 2.9096 - acc: 0.3200\n",
      "Epoch 5/100\n",
      "75/75 [==============================] - 0s 107us/sample - loss: 2.8051 - acc: 0.3200\n",
      "Epoch 6/100\n",
      "75/75 [==============================] - 0s 353us/sample - loss: 2.7057 - acc: 0.3200\n",
      "Epoch 7/100\n",
      "75/75 [==============================] - 0s 106us/sample - loss: 2.6147 - acc: 0.3200\n",
      "Epoch 8/100\n",
      "75/75 [==============================] - 0s 93us/sample - loss: 2.5282 - acc: 0.3200\n",
      "Epoch 9/100\n",
      "75/75 [==============================] - 0s 80us/sample - loss: 2.4451 - acc: 0.3200\n",
      "Epoch 10/100\n",
      "75/75 [==============================] - 0s 106us/sample - loss: 2.3624 - acc: 0.3200\n",
      "Epoch 11/100\n",
      "75/75 [==============================] - 0s 93us/sample - loss: 2.2886 - acc: 0.3200\n",
      "Epoch 12/100\n",
      "75/75 [==============================] - 0s 93us/sample - loss: 2.2156 - acc: 0.3333\n",
      "Epoch 13/100\n",
      "75/75 [==============================] - 0s 120us/sample - loss: 2.1392 - acc: 0.3333\n",
      "Epoch 14/100\n",
      "75/75 [==============================] - 0s 66us/sample - loss: 2.0658 - acc: 0.3333\n",
      "Epoch 15/100\n",
      "75/75 [==============================] - 0s 199us/sample - loss: 1.9945 - acc: 0.3333\n",
      "Epoch 16/100\n",
      "75/75 [==============================] - 0s 80us/sample - loss: 1.9252 - acc: 0.3333\n",
      "Epoch 17/100\n",
      "75/75 [==============================] - 0s 106us/sample - loss: 1.8539 - acc: 0.3333\n",
      "Epoch 18/100\n",
      "75/75 [==============================] - 0s 80us/sample - loss: 1.7883 - acc: 0.3333\n",
      "Epoch 19/100\n",
      "75/75 [==============================] - 0s 93us/sample - loss: 1.7266 - acc: 0.3333\n",
      "Epoch 20/100\n",
      "75/75 [==============================] - 0s 80us/sample - loss: 1.6672 - acc: 0.3333\n",
      "Epoch 21/100\n",
      "75/75 [==============================] - 0s 106us/sample - loss: 1.6085 - acc: 0.3333\n",
      "Epoch 22/100\n",
      "75/75 [==============================] - 0s 93us/sample - loss: 1.5527 - acc: 0.3333\n",
      "Epoch 23/100\n",
      "75/75 [==============================] - 0s 106us/sample - loss: 1.5013 - acc: 0.3600\n",
      "Epoch 24/100\n",
      "75/75 [==============================] - 0s 106us/sample - loss: 1.4500 - acc: 0.3600\n",
      "Epoch 25/100\n",
      "75/75 [==============================] - 0s 93us/sample - loss: 1.3993 - acc: 0.3733\n",
      "Epoch 26/100\n",
      "75/75 [==============================] - 0s 106us/sample - loss: 1.3524 - acc: 0.3600\n",
      "Epoch 27/100\n",
      "75/75 [==============================] - 0s 93us/sample - loss: 1.3097 - acc: 0.3867\n",
      "Epoch 28/100\n",
      "75/75 [==============================] - 0s 93us/sample - loss: 1.2778 - acc: 0.3867\n",
      "Epoch 29/100\n",
      "75/75 [==============================] - 0s 67us/sample - loss: 1.2456 - acc: 0.4400\n",
      "Epoch 30/100\n",
      "75/75 [==============================] - 0s 120us/sample - loss: 1.2133 - acc: 0.4533\n",
      "Epoch 31/100\n",
      "75/75 [==============================] - 0s 106us/sample - loss: 1.1824 - acc: 0.4400\n",
      "Epoch 32/100\n",
      "75/75 [==============================] - 0s 106us/sample - loss: 1.1567 - acc: 0.4667\n",
      "Epoch 33/100\n",
      "75/75 [==============================] - 0s 80us/sample - loss: 1.1357 - acc: 0.4667\n",
      "Epoch 34/100\n",
      "75/75 [==============================] - 0s 93us/sample - loss: 1.1134 - acc: 0.5600\n",
      "Epoch 35/100\n",
      "75/75 [==============================] - 0s 120us/sample - loss: 1.0925 - acc: 0.5067\n",
      "Epoch 36/100\n",
      "75/75 [==============================] - 0s 106us/sample - loss: 1.0764 - acc: 0.4667\n",
      "Epoch 37/100\n",
      "75/75 [==============================] - 0s 93us/sample - loss: 1.0595 - acc: 0.4267\n",
      "Epoch 38/100\n",
      "75/75 [==============================] - 0s 106us/sample - loss: 1.0461 - acc: 0.3600\n",
      "Epoch 39/100\n",
      "75/75 [==============================] - 0s 106us/sample - loss: 1.0338 - acc: 0.3733\n",
      "Epoch 40/100\n",
      "75/75 [==============================] - 0s 106us/sample - loss: 1.0255 - acc: 0.3200\n",
      "Epoch 41/100\n",
      "75/75 [==============================] - 0s 80us/sample - loss: 1.0161 - acc: 0.3200\n",
      "Epoch 42/100\n",
      "75/75 [==============================] - 0s 93us/sample - loss: 1.0081 - acc: 0.3333\n",
      "Epoch 43/100\n",
      "75/75 [==============================] - 0s 93us/sample - loss: 0.9994 - acc: 0.3467\n",
      "Epoch 44/100\n",
      "75/75 [==============================] - 0s 80us/sample - loss: 0.9924 - acc: 0.3467\n",
      "Epoch 45/100\n",
      "75/75 [==============================] - 0s 93us/sample - loss: 0.9841 - acc: 0.3467\n",
      "Epoch 46/100\n",
      "75/75 [==============================] - 0s 93us/sample - loss: 0.9757 - acc: 0.3733\n",
      "Epoch 47/100\n",
      "75/75 [==============================] - 0s 93us/sample - loss: 0.9720 - acc: 0.4267\n",
      "Epoch 48/100\n",
      "75/75 [==============================] - 0s 120us/sample - loss: 0.9635 - acc: 0.5333\n",
      "Epoch 49/100\n",
      "75/75 [==============================] - 0s 80us/sample - loss: 0.9570 - acc: 0.5600\n",
      "Epoch 50/100\n",
      "75/75 [==============================] - 0s 93us/sample - loss: 0.9501 - acc: 0.5733\n",
      "Epoch 51/100\n",
      "75/75 [==============================] - 0s 106us/sample - loss: 0.9432 - acc: 0.5733\n",
      "Epoch 52/100\n",
      "75/75 [==============================] - 0s 93us/sample - loss: 0.9365 - acc: 0.4533\n",
      "Epoch 53/100\n",
      "75/75 [==============================] - 0s 80us/sample - loss: 0.9300 - acc: 0.4533\n",
      "Epoch 54/100\n",
      "75/75 [==============================] - 0s 120us/sample - loss: 0.9239 - acc: 0.4267\n",
      "Epoch 55/100\n",
      "75/75 [==============================] - 0s 106us/sample - loss: 0.9166 - acc: 0.4533\n",
      "Epoch 56/100\n",
      "75/75 [==============================] - 0s 93us/sample - loss: 0.9152 - acc: 0.5200\n",
      "Epoch 57/100\n",
      "75/75 [==============================] - 0s 80us/sample - loss: 0.9055 - acc: 0.3733\n",
      "Epoch 58/100\n",
      "75/75 [==============================] - 0s 106us/sample - loss: 0.8978 - acc: 0.5600\n",
      "Epoch 59/100\n",
      "75/75 [==============================] - 0s 80us/sample - loss: 0.8946 - acc: 0.5600\n",
      "Epoch 60/100\n",
      "75/75 [==============================] - 0s 80us/sample - loss: 0.8881 - acc: 0.4133\n",
      "Epoch 61/100\n",
      "75/75 [==============================] - 0s 93us/sample - loss: 0.8820 - acc: 0.4667\n",
      "Epoch 62/100\n",
      "75/75 [==============================] - 0s 93us/sample - loss: 0.8769 - acc: 0.4533\n",
      "Epoch 63/100\n",
      "75/75 [==============================] - 0s 80us/sample - loss: 0.8702 - acc: 0.4133\n",
      "Epoch 64/100\n",
      "75/75 [==============================] - 0s 133us/sample - loss: 0.8679 - acc: 0.4133\n",
      "Epoch 65/100\n",
      "75/75 [==============================] - 0s 93us/sample - loss: 0.8571 - acc: 0.6267\n",
      "Epoch 66/100\n",
      "75/75 [==============================] - 0s 80us/sample - loss: 0.8522 - acc: 0.5867\n",
      "Epoch 67/100\n",
      "75/75 [==============================] - 0s 106us/sample - loss: 0.8453 - acc: 0.4800\n",
      "Epoch 68/100\n",
      "75/75 [==============================] - 0s 106us/sample - loss: 0.8399 - acc: 0.5467\n",
      "Epoch 69/100\n",
      "75/75 [==============================] - 0s 106us/sample - loss: 0.8333 - acc: 0.6400\n",
      "Epoch 70/100\n",
      "75/75 [==============================] - 0s 93us/sample - loss: 0.8268 - acc: 0.6667\n",
      "Epoch 71/100\n",
      "75/75 [==============================] - 0s 93us/sample - loss: 0.8214 - acc: 0.6800\n",
      "Epoch 72/100\n",
      "75/75 [==============================] - 0s 93us/sample - loss: 0.8151 - acc: 0.6667\n",
      "Epoch 73/100\n",
      "75/75 [==============================] - 0s 80us/sample - loss: 0.8110 - acc: 0.7600\n",
      "Epoch 74/100\n",
      "75/75 [==============================] - 0s 66us/sample - loss: 0.8053 - acc: 0.6400\n",
      "Epoch 75/100\n",
      "75/75 [==============================] - 0s 80us/sample - loss: 0.8024 - acc: 0.6533\n",
      "Epoch 76/100\n",
      "75/75 [==============================] - 0s 93us/sample - loss: 0.7950 - acc: 0.8267\n",
      "Epoch 77/100\n",
      "75/75 [==============================] - 0s 80us/sample - loss: 0.7877 - acc: 0.7467\n",
      "Epoch 78/100\n",
      "75/75 [==============================] - 0s 80us/sample - loss: 0.7843 - acc: 0.7333\n",
      "Epoch 79/100\n",
      "75/75 [==============================] - 0s 93us/sample - loss: 0.7766 - acc: 0.6933\n",
      "Epoch 80/100\n",
      "75/75 [==============================] - 0s 66us/sample - loss: 0.7752 - acc: 0.8533\n",
      "Epoch 81/100\n",
      "75/75 [==============================] - 0s 80us/sample - loss: 0.7658 - acc: 0.8800\n",
      "Epoch 82/100\n",
      "75/75 [==============================] - 0s 93us/sample - loss: 0.7608 - acc: 0.8667\n",
      "Epoch 83/100\n",
      "75/75 [==============================] - 0s 93us/sample - loss: 0.7552 - acc: 0.9067\n",
      "Epoch 84/100\n",
      "75/75 [==============================] - 0s 93us/sample - loss: 0.7498 - acc: 0.9200\n",
      "Epoch 85/100\n",
      "75/75 [==============================] - 0s 80us/sample - loss: 0.7434 - acc: 0.9067\n",
      "Epoch 86/100\n",
      "75/75 [==============================] - 0s 80us/sample - loss: 0.7372 - acc: 0.8933\n",
      "Epoch 87/100\n",
      "75/75 [==============================] - 0s 120us/sample - loss: 0.7373 - acc: 0.8400\n",
      "Epoch 88/100\n",
      "75/75 [==============================] - 0s 93us/sample - loss: 0.7276 - acc: 0.9600\n",
      "Epoch 89/100\n",
      "75/75 [==============================] - 0s 67us/sample - loss: 0.7214 - acc: 0.9067\n",
      "Epoch 90/100\n",
      "75/75 [==============================] - 0s 120us/sample - loss: 0.7168 - acc: 0.9733\n",
      "Epoch 91/100\n",
      "75/75 [==============================] - 0s 80us/sample - loss: 0.7101 - acc: 0.9333\n",
      "Epoch 92/100\n",
      "75/75 [==============================] - 0s 66us/sample - loss: 0.7052 - acc: 0.9467\n",
      "Epoch 93/100\n",
      "75/75 [==============================] - 0s 93us/sample - loss: 0.7007 - acc: 0.9467\n",
      "Epoch 94/100\n",
      "75/75 [==============================] - 0s 80us/sample - loss: 0.6951 - acc: 0.9600\n",
      "Epoch 95/100\n",
      "75/75 [==============================] - 0s 80us/sample - loss: 0.6880 - acc: 0.9200\n",
      "Epoch 96/100\n",
      "75/75 [==============================] - 0s 93us/sample - loss: 0.6841 - acc: 0.9200\n",
      "Epoch 97/100\n",
      "75/75 [==============================] - 0s 80us/sample - loss: 0.6777 - acc: 0.8400\n",
      "Epoch 98/100\n",
      "75/75 [==============================] - 0s 80us/sample - loss: 0.6754 - acc: 0.9867\n",
      "Epoch 99/100\n",
      "75/75 [==============================] - 0s 106us/sample - loss: 0.6679 - acc: 0.8800\n",
      "Epoch 100/100\n",
      "75/75 [==============================] - 0s 66us/sample - loss: 0.6614 - acc: 0.8800\n"
     ]
    },
    {
     "data": {
      "text/plain": [
       "<tensorflow.python.keras.callbacks.History at 0x2238c9a1c48>"
      ]
     },
     "execution_count": 40,
     "metadata": {},
     "output_type": "execute_result"
    }
   ],
   "source": [
    "model.fit(X_train, Y_train, batch_size=50, epochs=100)"
   ]
  },
  {
   "cell_type": "code",
   "execution_count": 41,
   "metadata": {},
   "outputs": [
    {
     "name": "stdout",
     "output_type": "stream",
     "text": [
      "Model: \"sequential_4\"\n",
      "_________________________________________________________________\n",
      "Layer (type)                 Output Shape              Param #   \n",
      "=================================================================\n",
      "dense_12 (Dense)             multiple                  50        \n",
      "_________________________________________________________________\n",
      "dense_13 (Dense)             multiple                  110       \n",
      "_________________________________________________________________\n",
      "dense_14 (Dense)             multiple                  33        \n",
      "=================================================================\n",
      "Total params: 193\n",
      "Trainable params: 193\n",
      "Non-trainable params: 0\n",
      "_________________________________________________________________\n"
     ]
    }
   ],
   "source": [
    "model.summary()"
   ]
  },
  {
   "cell_type": "code",
   "execution_count": 42,
   "metadata": {},
   "outputs": [
    {
     "name": "stdout",
     "output_type": "stream",
     "text": [
      "Test loss: 0.6158445358276368\n",
      "Test accuracy: 0.94666666\n"
     ]
    }
   ],
   "source": [
    "loss, accuracy = model.evaluate(X_test, Y_test, verbose=0)\n",
    "print('Test loss:', loss)\n",
    "print('Test accuracy:', accuracy)"
   ]
  },
  {
   "cell_type": "code",
   "execution_count": null,
   "metadata": {},
   "outputs": [],
   "source": []
  }
 ],
 "metadata": {
  "kernelspec": {
   "display_name": "Python 3",
   "language": "python",
   "name": "python3"
  },
  "language_info": {
   "codemirror_mode": {
    "name": "ipython",
    "version": 3
   },
   "file_extension": ".py",
   "mimetype": "text/x-python",
   "name": "python",
   "nbconvert_exporter": "python",
   "pygments_lexer": "ipython3",
   "version": "3.7.6"
  }
 },
 "nbformat": 4,
 "nbformat_minor": 4
}
