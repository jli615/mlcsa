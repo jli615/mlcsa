{
 "cells": [
  {
   "cell_type": "markdown",
   "metadata": {},
   "source": [
    "## importing"
   ]
  },
  {
   "cell_type": "code",
   "execution_count": 7,
   "metadata": {},
   "outputs": [],
   "source": [
    "#basic packages\n",
    "import pandas as pd\n",
    "import numpy as np\n",
    "import matplotlib.pyplot as plt\n",
    "\n",
    "#sklearn models\n",
    "from sklearn.linear_model import RidgeClassifier\n",
    "from sklearn.neighbors import KNeighborsClassifier\n",
    "from sklearn.tree import DecisionTreeClassifier\n",
    "from sklearn.ensemble import RandomForestClassifier\n",
    "from sklearn.model_selection import train_test_split\n",
    "\n",
    "#encoder\n",
    "from sklearn.preprocessing import LabelEncoder\n",
    "\n",
    "#metrics\n",
    "from sklearn import metrics\n",
    "\n",
    "#tensorflow\n",
    "import tensorflow as tf\n",
    "\n",
    "#random\n",
    "import random\n",
    "from datetime import datetime"
   ]
  },
  {
   "cell_type": "markdown",
   "metadata": {},
   "source": [
    "## data processing"
   ]
  },
  {
   "cell_type": "code",
   "execution_count": 2,
   "metadata": {},
   "outputs": [],
   "source": [
    "data = pd.read_csv('/Users/jlisd/Downloads/MLProject/iris.data', names = ['sepal length (cm)', 'sepal width (cm)', 'petal length (cm)', 'petal width (cm)', 'class'])\n",
    "#data.head()"
   ]
  },
  {
   "cell_type": "code",
   "execution_count": 22,
   "metadata": {},
   "outputs": [],
   "source": [
    "X = data[['sepal length (cm)', 'sepal width (cm)', 'petal length (cm)', 'petal width (cm)']].values\n",
    "#X.head()"
   ]
  },
  {
   "cell_type": "code",
   "execution_count": 23,
   "metadata": {},
   "outputs": [],
   "source": [
    "Y_raw = data[['class']].values\n",
    "#Y.head()"
   ]
  },
  {
   "cell_type": "code",
   "execution_count": 24,
   "metadata": {},
   "outputs": [
    {
     "name": "stderr",
     "output_type": "stream",
     "text": [
      "C:\\Users\\jlisd\\Anaconda3\\lib\\site-packages\\sklearn\\preprocessing\\_label.py:251: DataConversionWarning: A column-vector y was passed when a 1d array was expected. Please change the shape of y to (n_samples, ), for example using ravel().\n",
      "  y = column_or_1d(y, warn=True)\n"
     ]
    }
   ],
   "source": [
    "encoder =  LabelEncoder()\n",
    "Y1 = encoder.fit_transform(Y_raw)\n",
    "#print(Y1)"
   ]
  },
  {
   "cell_type": "code",
   "execution_count": 29,
   "metadata": {},
   "outputs": [],
   "source": [
    "Y = pd.get_dummies(Y1).values"
   ]
  },
  {
   "cell_type": "code",
   "execution_count": 30,
   "metadata": {},
   "outputs": [
    {
     "name": "stdout",
     "output_type": "stream",
     "text": [
      "[[5.1 3.5 1.4 0.2]\n",
      " [4.9 3.  1.4 0.2]\n",
      " [4.7 3.2 1.3 0.2]\n",
      " [4.6 3.1 1.5 0.2]\n",
      " [5.  3.6 1.4 0.2]]\n",
      "[[1 0 0]\n",
      " [1 0 0]\n",
      " [1 0 0]\n",
      " [1 0 0]\n",
      " [1 0 0]]\n"
     ]
    }
   ],
   "source": [
    "print(X[0:5])\n",
    "print(Y[0:5])"
   ]
  },
  {
   "cell_type": "markdown",
   "metadata": {},
   "source": [
    "## creating the random state"
   ]
  },
  {
   "cell_type": "code",
   "execution_count": 31,
   "metadata": {},
   "outputs": [],
   "source": [
    "random_state = random.seed(datetime.now())\n",
    "test_size = 0.5"
   ]
  },
  {
   "cell_type": "code",
   "execution_count": 32,
   "metadata": {},
   "outputs": [],
   "source": [
    "X_train, X_test, Y_train, Y_test = train_test_split(X, Y, test_size = test_size, random_state = random_state)\n",
    "#print(\"data size: \" + str(len(X.index)))\n",
    "#print(\"training size: \" + str(len(X_train.index)))\n",
    "#print(\"test size: \" + str(len(X_test.index)))"
   ]
  },
  {
   "cell_type": "code",
   "execution_count": 33,
   "metadata": {},
   "outputs": [
    {
     "data": {
      "text/plain": [
       "array([[6.8, 3.2, 5.9, 2.3],\n",
       "       [6.3, 3.3, 4.7, 1.6],\n",
       "       [6.6, 2.9, 4.6, 1.3],\n",
       "       [4.9, 3.1, 1.5, 0.1],\n",
       "       [4.7, 3.2, 1.6, 0.2],\n",
       "       [5.3, 3.7, 1.5, 0.2],\n",
       "       [5.4, 3.9, 1.3, 0.4],\n",
       "       [5.6, 3. , 4.1, 1.3],\n",
       "       [6.9, 3.2, 5.7, 2.3],\n",
       "       [6. , 2.7, 5.1, 1.6],\n",
       "       [5.6, 3. , 4.5, 1.5],\n",
       "       [5.5, 3.5, 1.3, 0.2],\n",
       "       [5.4, 3.4, 1.5, 0.4],\n",
       "       [5. , 3.4, 1.6, 0.4],\n",
       "       [6.7, 3.1, 4.7, 1.5],\n",
       "       [6.5, 2.8, 4.6, 1.5],\n",
       "       [6. , 2.2, 4. , 1. ],\n",
       "       [5.2, 2.7, 3.9, 1.4],\n",
       "       [7.9, 3.8, 6.4, 2. ],\n",
       "       [5.7, 2.5, 5. , 2. ],\n",
       "       [5. , 3.6, 1.4, 0.2],\n",
       "       [5.6, 2.8, 4.9, 2. ],\n",
       "       [6.5, 3. , 5.2, 2. ],\n",
       "       [6.7, 3.1, 4.4, 1.4],\n",
       "       [5. , 3.4, 1.5, 0.2],\n",
       "       [4.9, 2.4, 3.3, 1. ],\n",
       "       [4.4, 2.9, 1.4, 0.2],\n",
       "       [5.7, 2.8, 4.5, 1.3],\n",
       "       [6.8, 2.8, 4.8, 1.4],\n",
       "       [7.7, 3.8, 6.7, 2.2],\n",
       "       [6.1, 2.8, 4. , 1.3],\n",
       "       [6.7, 3.1, 5.6, 2.4],\n",
       "       [5.5, 2.3, 4. , 1.3],\n",
       "       [6.5, 3.2, 5.1, 2. ],\n",
       "       [5.2, 4.1, 1.5, 0.1],\n",
       "       [6.9, 3.1, 4.9, 1.5],\n",
       "       [4.7, 3.2, 1.3, 0.2],\n",
       "       [7.3, 2.9, 6.3, 1.8],\n",
       "       [5. , 3.5, 1.6, 0.6],\n",
       "       [6.4, 3.1, 5.5, 1.8],\n",
       "       [7.2, 3. , 5.8, 1.6],\n",
       "       [6.6, 3. , 4.4, 1.4],\n",
       "       [5.8, 2.6, 4. , 1.2],\n",
       "       [6. , 3. , 4.8, 1.8],\n",
       "       [4.9, 3.1, 1.5, 0.1],\n",
       "       [6.1, 3. , 4.6, 1.4],\n",
       "       [5. , 2. , 3.5, 1. ],\n",
       "       [7.4, 2.8, 6.1, 1.9],\n",
       "       [6.1, 2.9, 4.7, 1.4],\n",
       "       [5.1, 3.7, 1.5, 0.4],\n",
       "       [5.6, 2.9, 3.6, 1.3],\n",
       "       [5.2, 3.5, 1.5, 0.2],\n",
       "       [6.4, 3.2, 5.3, 2.3],\n",
       "       [5.4, 3.9, 1.7, 0.4],\n",
       "       [6.7, 2.5, 5.8, 1.8],\n",
       "       [6. , 2.9, 4.5, 1.5],\n",
       "       [4.3, 3. , 1.1, 0.1],\n",
       "       [6.3, 2.3, 4.4, 1.3],\n",
       "       [6.1, 2.8, 4.7, 1.2],\n",
       "       [7.6, 3. , 6.6, 2.1],\n",
       "       [5. , 3.5, 1.3, 0.3],\n",
       "       [5.1, 3.8, 1.9, 0.4],\n",
       "       [7. , 3.2, 4.7, 1.4],\n",
       "       [5.8, 2.8, 5.1, 2.4],\n",
       "       [6.7, 3.3, 5.7, 2.1],\n",
       "       [6. , 2.2, 5. , 1.5],\n",
       "       [6.4, 2.8, 5.6, 2.1],\n",
       "       [4.6, 3.4, 1.4, 0.3],\n",
       "       [5.7, 2.6, 3.5, 1. ],\n",
       "       [5.4, 3.7, 1.5, 0.2],\n",
       "       [6.3, 2.7, 4.9, 1.8],\n",
       "       [5.4, 3.4, 1.7, 0.2],\n",
       "       [4.4, 3.2, 1.3, 0.2],\n",
       "       [4.9, 2.5, 4.5, 1.7],\n",
       "       [5.5, 2.4, 3.8, 1.1]])"
      ]
     },
     "execution_count": 33,
     "metadata": {},
     "output_type": "execute_result"
    }
   ],
   "source": [
    "X_train"
   ]
  },
  {
   "cell_type": "markdown",
   "metadata": {},
   "source": [
    " ## model building"
   ]
  },
  {
   "cell_type": "code",
   "execution_count": 23,
   "metadata": {},
   "outputs": [
    {
     "name": "stdout",
     "output_type": "stream",
     "text": [
      "K Nearest Neighbors model accuracy: 0.9733333333333334\n"
     ]
    }
   ],
   "source": [
    "knn = KNeighborsClassifier()\n",
    "knn.fit(X_train, Y_train.values.ravel())\n",
    "knn_prediction = knn.predict(X_test)\n",
    "print(\"K Nearest Neighbors model accuracy: \" + str(metrics.accuracy_score(knn_prediction, Y_test)))"
   ]
  },
  {
   "cell_type": "code",
   "execution_count": 24,
   "metadata": {},
   "outputs": [
    {
     "name": "stdout",
     "output_type": "stream",
     "text": [
      "Ridge model accuracy: 0.8666666666666667\n"
     ]
    }
   ],
   "source": [
    "ridge = RidgeClassifier()\n",
    "ridge.fit(X_train, Y_train.values.ravel())\n",
    "ridge_prediction = ridge.predict(X_test)\n",
    "print(\"Ridge model accuracy: \" + str(metrics.accuracy_score(ridge_prediction, Y_test)))"
   ]
  },
  {
   "cell_type": "code",
   "execution_count": 25,
   "metadata": {},
   "outputs": [
    {
     "name": "stdout",
     "output_type": "stream",
     "text": [
      "Decision tree model accuracy: 0.8933333333333333\n"
     ]
    }
   ],
   "source": [
    "dt = DecisionTreeClassifier(max_depth = 3, random_state = random_state)\n",
    "dt.fit(X_train, Y_train)\n",
    "dt_prediction = dt.predict(X_test)\n",
    "print(\"Decision tree model accuracy: \" + str(metrics.accuracy_score(dt_prediction, Y_test)))"
   ]
  },
  {
   "cell_type": "code",
   "execution_count": 26,
   "metadata": {},
   "outputs": [
    {
     "name": "stdout",
     "output_type": "stream",
     "text": [
      "Decision tree model accuracy: 0.8933333333333333\n"
     ]
    },
    {
     "name": "stderr",
     "output_type": "stream",
     "text": [
      "C:\\Users\\jlisd\\Anaconda3\\lib\\site-packages\\ipykernel_launcher.py:2: DataConversionWarning: A column-vector y was passed when a 1d array was expected. Please change the shape of y to (n_samples,), for example using ravel().\n",
      "  \n"
     ]
    }
   ],
   "source": [
    "rf = RandomForestClassifier()\n",
    "rf.fit(X_train, Y_train)\n",
    "rf_prediction = dt.predict(X_test)\n",
    "print(\"Decision tree model accuracy: \" + str(metrics.accuracy_score(rf_prediction, Y_test)))"
   ]
  },
  {
   "cell_type": "markdown",
   "metadata": {},
   "source": [
    "## tensorflow model"
   ]
  },
  {
   "cell_type": "code",
   "execution_count": 37,
   "metadata": {},
   "outputs": [
    {
     "ename": "ValueError",
     "evalue": "This model has not yet been built. Build the model first by calling `build()` or calling `fit()` with some data, or specify an `input_shape` argument in the first layer(s) for automatic build.",
     "output_type": "error",
     "traceback": [
      "\u001b[1;31m---------------------------------------------------------------------------\u001b[0m",
      "\u001b[1;31mValueError\u001b[0m                                Traceback (most recent call last)",
      "\u001b[1;32m<ipython-input-37-8c63999dbf40>\u001b[0m in \u001b[0;36m<module>\u001b[1;34m\u001b[0m\n\u001b[0;32m      4\u001b[0m     \u001b[0mtf\u001b[0m\u001b[1;33m.\u001b[0m\u001b[0mkeras\u001b[0m\u001b[1;33m.\u001b[0m\u001b[0mlayers\u001b[0m\u001b[1;33m.\u001b[0m\u001b[0mDense\u001b[0m\u001b[1;33m(\u001b[0m\u001b[1;36m3\u001b[0m\u001b[1;33m,\u001b[0m \u001b[0mactivation\u001b[0m\u001b[1;33m=\u001b[0m\u001b[1;34m'softmax'\u001b[0m\u001b[1;33m)\u001b[0m\u001b[1;33m\u001b[0m\u001b[1;33m\u001b[0m\u001b[0m\n\u001b[0;32m      5\u001b[0m   ])\n\u001b[1;32m----> 6\u001b[1;33m \u001b[0mmodel\u001b[0m\u001b[1;33m.\u001b[0m\u001b[0msummary\u001b[0m\u001b[1;33m(\u001b[0m\u001b[1;33m)\u001b[0m\u001b[1;33m\u001b[0m\u001b[1;33m\u001b[0m\u001b[0m\n\u001b[0m",
      "\u001b[1;32m~\\Anaconda3\\lib\\site-packages\\tensorflow\\python\\keras\\engine\\network.py\u001b[0m in \u001b[0;36msummary\u001b[1;34m(self, line_length, positions, print_fn)\u001b[0m\n\u001b[0;32m   1502\u001b[0m     \"\"\"\n\u001b[0;32m   1503\u001b[0m     \u001b[1;32mif\u001b[0m \u001b[1;32mnot\u001b[0m \u001b[0mself\u001b[0m\u001b[1;33m.\u001b[0m\u001b[0mbuilt\u001b[0m\u001b[1;33m:\u001b[0m\u001b[1;33m\u001b[0m\u001b[1;33m\u001b[0m\u001b[0m\n\u001b[1;32m-> 1504\u001b[1;33m       raise ValueError('This model has not yet been built. '\n\u001b[0m\u001b[0;32m   1505\u001b[0m                        \u001b[1;34m'Build the model first by calling `build()` or calling '\u001b[0m\u001b[1;33m\u001b[0m\u001b[1;33m\u001b[0m\u001b[0m\n\u001b[0;32m   1506\u001b[0m                        \u001b[1;34m'`fit()` with some data, or specify '\u001b[0m\u001b[1;33m\u001b[0m\u001b[1;33m\u001b[0m\u001b[0m\n",
      "\u001b[1;31mValueError\u001b[0m: This model has not yet been built. Build the model first by calling `build()` or calling `fit()` with some data, or specify an `input_shape` argument in the first layer(s) for automatic build."
     ]
    }
   ],
   "source": [
    "model = tf.keras.Sequential([\n",
    "    tf.keras.layers.Dense(10, activation='relu'),\n",
    "    tf.keras.layers.Dense(10, activation='relu'),\n",
    "    tf.keras.layers.Dense(3, activation='softmax')\n",
    "  ])\n",
    "model.summary()"
   ]
  },
  {
   "cell_type": "code",
   "execution_count": 27,
   "metadata": {},
   "outputs": [],
   "source": [
    "model.compile(optimizer='rmsprop', loss='categorical_crossentropy', metrics=['accuracy'])"
   ]
  },
  {
   "cell_type": "code",
   "execution_count": 34,
   "metadata": {},
   "outputs": [
    {
     "name": "stdout",
     "output_type": "stream",
     "text": [
      "Epoch 1/100\n",
      "75/75 [==============================] - 0s 3ms/sample - loss: 2.0995 - acc: 0.3200\n",
      "Epoch 2/100\n",
      "75/75 [==============================] - 0s 79us/sample - loss: 1.9338 - acc: 0.3200\n",
      "Epoch 3/100\n",
      "75/75 [==============================] - 0s 66us/sample - loss: 1.8307 - acc: 0.3200\n",
      "Epoch 4/100\n",
      "75/75 [==============================] - 0s 80us/sample - loss: 1.7444 - acc: 0.3200\n",
      "Epoch 5/100\n",
      "75/75 [==============================] - 0s 133us/sample - loss: 1.6758 - acc: 0.1467\n",
      "Epoch 6/100\n",
      "75/75 [==============================] - 0s 120us/sample - loss: 1.6217 - acc: 0.0800\n",
      "Epoch 7/100\n",
      "75/75 [==============================] - 0s 106us/sample - loss: 1.5755 - acc: 0.0267\n",
      "Epoch 8/100\n",
      "75/75 [==============================] - 0s 93us/sample - loss: 1.5329 - acc: 0.0267\n",
      "Epoch 9/100\n",
      "75/75 [==============================] - 0s 106us/sample - loss: 1.4930 - acc: 0.0400\n",
      "Epoch 10/100\n",
      "75/75 [==============================] - 0s 120us/sample - loss: 1.4529 - acc: 0.0267\n",
      "Epoch 11/100\n",
      "75/75 [==============================] - 0s 93us/sample - loss: 1.4135 - acc: 0.0133\n",
      "Epoch 12/100\n",
      "75/75 [==============================] - 0s 106us/sample - loss: 1.3742 - acc: 0.0000e+00\n",
      "Epoch 13/100\n",
      "75/75 [==============================] - 0s 106us/sample - loss: 1.3331 - acc: 0.0267\n",
      "Epoch 14/100\n",
      "75/75 [==============================] - 0s 93us/sample - loss: 1.2947 - acc: 0.0267\n",
      "Epoch 15/100\n",
      "75/75 [==============================] - 0s 120us/sample - loss: 1.2576 - acc: 0.1200\n",
      "Epoch 16/100\n",
      "75/75 [==============================] - 0s 120us/sample - loss: 1.2242 - acc: 0.1467\n",
      "Epoch 17/100\n",
      "75/75 [==============================] - 0s 80us/sample - loss: 1.1936 - acc: 0.2267\n",
      "Epoch 18/100\n",
      "75/75 [==============================] - 0s 80us/sample - loss: 1.1653 - acc: 0.2933\n",
      "Epoch 19/100\n",
      "75/75 [==============================] - 0s 80us/sample - loss: 1.1383 - acc: 0.3467\n",
      "Epoch 20/100\n",
      "75/75 [==============================] - 0s 120us/sample - loss: 1.1147 - acc: 0.4000\n",
      "Epoch 21/100\n",
      "75/75 [==============================] - 0s 106us/sample - loss: 1.0935 - acc: 0.4400\n",
      "Epoch 22/100\n",
      "75/75 [==============================] - 0s 120us/sample - loss: 1.0713 - acc: 0.4400\n",
      "Epoch 23/100\n",
      "75/75 [==============================] - 0s 93us/sample - loss: 1.0531 - acc: 0.4800\n",
      "Epoch 24/100\n",
      "75/75 [==============================] - 0s 80us/sample - loss: 1.0333 - acc: 0.6000\n",
      "Epoch 25/100\n",
      "75/75 [==============================] - 0s 93us/sample - loss: 1.0177 - acc: 0.6133\n",
      "Epoch 26/100\n",
      "75/75 [==============================] - 0s 106us/sample - loss: 1.0037 - acc: 0.6133\n",
      "Epoch 27/100\n",
      "75/75 [==============================] - 0s 93us/sample - loss: 0.9911 - acc: 0.6133\n",
      "Epoch 28/100\n",
      "75/75 [==============================] - 0s 80us/sample - loss: 0.9794 - acc: 0.6267\n",
      "Epoch 29/100\n",
      "75/75 [==============================] - 0s 93us/sample - loss: 0.9690 - acc: 0.6267\n",
      "Epoch 30/100\n",
      "75/75 [==============================] - 0s 133us/sample - loss: 0.9596 - acc: 0.6267\n",
      "Epoch 31/100\n",
      "75/75 [==============================] - 0s 120us/sample - loss: 0.9505 - acc: 0.6400\n",
      "Epoch 32/100\n",
      "75/75 [==============================] - 0s 93us/sample - loss: 0.9441 - acc: 0.6400\n",
      "Epoch 33/100\n",
      "75/75 [==============================] - 0s 66us/sample - loss: 0.9338 - acc: 0.6267\n",
      "Epoch 34/100\n",
      "75/75 [==============================] - 0s 93us/sample - loss: 0.9256 - acc: 0.6267\n",
      "Epoch 35/100\n",
      "75/75 [==============================] - 0s 120us/sample - loss: 0.9184 - acc: 0.6400\n",
      "Epoch 36/100\n",
      "75/75 [==============================] - 0s 120us/sample - loss: 0.9109 - acc: 0.6400\n",
      "Epoch 37/100\n",
      "75/75 [==============================] - 0s 106us/sample - loss: 0.9072 - acc: 0.7067\n",
      "Epoch 38/100\n",
      "75/75 [==============================] - 0s 106us/sample - loss: 0.9013 - acc: 0.6533\n",
      "Epoch 39/100\n",
      "75/75 [==============================] - 0s 106us/sample - loss: 0.8931 - acc: 0.6400\n",
      "Epoch 40/100\n",
      "75/75 [==============================] - 0s 106us/sample - loss: 0.8883 - acc: 0.6400\n",
      "Epoch 41/100\n",
      "75/75 [==============================] - 0s 93us/sample - loss: 0.8826 - acc: 0.7467\n",
      "Epoch 42/100\n",
      "75/75 [==============================] - 0s 106us/sample - loss: 0.8745 - acc: 0.8667\n",
      "Epoch 43/100\n",
      "75/75 [==============================] - 0s 120us/sample - loss: 0.8686 - acc: 0.8667\n",
      "Epoch 44/100\n",
      "75/75 [==============================] - 0s 80us/sample - loss: 0.8622 - acc: 0.8800\n",
      "Epoch 45/100\n",
      "75/75 [==============================] - 0s 93us/sample - loss: 0.8563 - acc: 0.8533\n",
      "Epoch 46/100\n",
      "75/75 [==============================] - 0s 80us/sample - loss: 0.8504 - acc: 0.8533\n",
      "Epoch 47/100\n",
      "75/75 [==============================] - 0s 120us/sample - loss: 0.8450 - acc: 0.7733\n",
      "Epoch 48/100\n",
      "75/75 [==============================] - 0s 93us/sample - loss: 0.8384 - acc: 0.9067\n",
      "Epoch 49/100\n",
      "75/75 [==============================] - 0s 80us/sample - loss: 0.8373 - acc: 0.7333\n",
      "Epoch 50/100\n",
      "75/75 [==============================] - 0s 93us/sample - loss: 0.8302 - acc: 0.8933\n",
      "Epoch 51/100\n",
      "75/75 [==============================] - 0s 93us/sample - loss: 0.8268 - acc: 0.9467\n",
      "Epoch 52/100\n",
      "75/75 [==============================] - 0s 93us/sample - loss: 0.8197 - acc: 0.7867\n",
      "Epoch 53/100\n",
      "75/75 [==============================] - 0s 80us/sample - loss: 0.8127 - acc: 0.9067\n",
      "Epoch 54/100\n",
      "75/75 [==============================] - 0s 106us/sample - loss: 0.8070 - acc: 0.9333\n",
      "Epoch 55/100\n",
      "75/75 [==============================] - 0s 106us/sample - loss: 0.8016 - acc: 0.8933\n",
      "Epoch 56/100\n",
      "75/75 [==============================] - 0s 93us/sample - loss: 0.7994 - acc: 0.9200\n",
      "Epoch 57/100\n",
      "75/75 [==============================] - 0s 93us/sample - loss: 0.7916 - acc: 0.7733\n",
      "Epoch 58/100\n",
      "75/75 [==============================] - 0s 106us/sample - loss: 0.7858 - acc: 0.8533\n",
      "Epoch 59/100\n",
      "75/75 [==============================] - 0s 133us/sample - loss: 0.7805 - acc: 0.8667\n",
      "Epoch 60/100\n",
      "75/75 [==============================] - 0s 133us/sample - loss: 0.7748 - acc: 0.8667\n",
      "Epoch 61/100\n",
      "75/75 [==============================] - 0s 120us/sample - loss: 0.7714 - acc: 0.9200\n",
      "Epoch 62/100\n",
      "75/75 [==============================] - 0s 106us/sample - loss: 0.7639 - acc: 0.7867\n",
      "Epoch 63/100\n",
      "75/75 [==============================] - 0s 80us/sample - loss: 0.7604 - acc: 0.8133\n",
      "Epoch 64/100\n",
      "75/75 [==============================] - 0s 93us/sample - loss: 0.7535 - acc: 0.9333\n",
      "Epoch 65/100\n",
      "75/75 [==============================] - 0s 93us/sample - loss: 0.7476 - acc: 0.8533\n",
      "Epoch 66/100\n",
      "75/75 [==============================] - 0s 80us/sample - loss: 0.7419 - acc: 0.8800\n",
      "Epoch 67/100\n",
      "75/75 [==============================] - 0s 80us/sample - loss: 0.7360 - acc: 0.9333\n",
      "Epoch 68/100\n",
      "75/75 [==============================] - 0s 80us/sample - loss: 0.7301 - acc: 0.8933\n",
      "Epoch 69/100\n",
      "75/75 [==============================] - 0s 93us/sample - loss: 0.7244 - acc: 0.8933\n",
      "Epoch 70/100\n",
      "75/75 [==============================] - 0s 80us/sample - loss: 0.7186 - acc: 0.8800\n",
      "Epoch 71/100\n",
      "75/75 [==============================] - 0s 80us/sample - loss: 0.7127 - acc: 0.8000\n",
      "Epoch 72/100\n",
      "75/75 [==============================] - 0s 146us/sample - loss: 0.7083 - acc: 0.8933\n",
      "Epoch 73/100\n",
      "75/75 [==============================] - 0s 120us/sample - loss: 0.7024 - acc: 0.9733\n",
      "Epoch 74/100\n",
      "75/75 [==============================] - 0s 106us/sample - loss: 0.7044 - acc: 0.7867\n",
      "Epoch 75/100\n",
      "75/75 [==============================] - 0s 80us/sample - loss: 0.6911 - acc: 0.9333\n",
      "Epoch 76/100\n",
      "75/75 [==============================] - 0s 80us/sample - loss: 0.6860 - acc: 0.9333\n",
      "Epoch 77/100\n",
      "75/75 [==============================] - 0s 106us/sample - loss: 0.6809 - acc: 0.8933\n",
      "Epoch 78/100\n",
      "75/75 [==============================] - 0s 93us/sample - loss: 0.6759 - acc: 0.9333\n",
      "Epoch 79/100\n",
      "75/75 [==============================] - 0s 80us/sample - loss: 0.6723 - acc: 0.9333\n",
      "Epoch 80/100\n",
      "75/75 [==============================] - 0s 106us/sample - loss: 0.6673 - acc: 0.9600\n",
      "Epoch 81/100\n",
      "75/75 [==============================] - 0s 120us/sample - loss: 0.6608 - acc: 0.9600\n",
      "Epoch 82/100\n",
      "75/75 [==============================] - 0s 80us/sample - loss: 0.6552 - acc: 0.9467\n",
      "Epoch 83/100\n",
      "75/75 [==============================] - 0s 66us/sample - loss: 0.6495 - acc: 0.9067\n",
      "Epoch 84/100\n"
     ]
    },
    {
     "name": "stdout",
     "output_type": "stream",
     "text": [
      "75/75 [==============================] - 0s 93us/sample - loss: 0.6440 - acc: 0.9333\n",
      "Epoch 85/100\n",
      "75/75 [==============================] - 0s 93us/sample - loss: 0.6401 - acc: 0.9333\n",
      "Epoch 86/100\n",
      "75/75 [==============================] - 0s 66us/sample - loss: 0.6335 - acc: 0.8933\n",
      "Epoch 87/100\n",
      "75/75 [==============================] - 0s 120us/sample - loss: 0.6291 - acc: 0.8933\n",
      "Epoch 88/100\n",
      "75/75 [==============================] - 0s 80us/sample - loss: 0.6230 - acc: 0.9733\n",
      "Epoch 89/100\n",
      "75/75 [==============================] - 0s 80us/sample - loss: 0.6193 - acc: 0.9467\n",
      "Epoch 90/100\n",
      "75/75 [==============================] - 0s 120us/sample - loss: 0.6127 - acc: 0.8933\n",
      "Epoch 91/100\n",
      "75/75 [==============================] - 0s 106us/sample - loss: 0.6085 - acc: 0.9333\n",
      "Epoch 92/100\n",
      "75/75 [==============================] - 0s 93us/sample - loss: 0.6047 - acc: 0.9600\n",
      "Epoch 93/100\n",
      "75/75 [==============================] - 0s 93us/sample - loss: 0.5992 - acc: 0.9867\n",
      "Epoch 94/100\n",
      "75/75 [==============================] - 0s 120us/sample - loss: 0.5946 - acc: 0.9733\n",
      "Epoch 95/100\n",
      "75/75 [==============================] - 0s 80us/sample - loss: 0.5903 - acc: 0.9200\n",
      "Epoch 96/100\n",
      "75/75 [==============================] - ETA: 0s - loss: 0.6070 - acc: 0.880 - 0s 80us/sample - loss: 0.5886 - acc: 0.9067\n",
      "Epoch 97/100\n",
      "75/75 [==============================] - 0s 106us/sample - loss: 0.5816 - acc: 0.8267\n",
      "Epoch 98/100\n",
      "75/75 [==============================] - 0s 106us/sample - loss: 0.5754 - acc: 0.9467\n",
      "Epoch 99/100\n",
      "75/75 [==============================] - 0s 66us/sample - loss: 0.5719 - acc: 0.9600\n",
      "Epoch 100/100\n",
      "75/75 [==============================] - 0s 80us/sample - loss: 0.5749 - acc: 0.8400\n"
     ]
    },
    {
     "data": {
      "text/plain": [
       "<tensorflow.python.keras.callbacks.History at 0x2238c18b3c8>"
      ]
     },
     "execution_count": 34,
     "metadata": {},
     "output_type": "execute_result"
    }
   ],
   "source": [
    "model.fit(X_train, Y_train, batch_size=50, epochs=100)"
   ]
  },
  {
   "cell_type": "code",
   "execution_count": 35,
   "metadata": {},
   "outputs": [
    {
     "name": "stdout",
     "output_type": "stream",
     "text": [
      "Test loss: 0.5593370779355367\n",
      "Test accuracy: 0.96\n"
     ]
    }
   ],
   "source": [
    "loss, accuracy = model.evaluate(X_test, Y_test, verbose=0)\n",
    "print('Test loss:', loss)\n",
    "print('Test accuracy:', accuracy)"
   ]
  },
  {
   "cell_type": "code",
   "execution_count": null,
   "metadata": {},
   "outputs": [],
   "source": []
  }
 ],
 "metadata": {
  "kernelspec": {
   "display_name": "Python 3",
   "language": "python",
   "name": "python3"
  },
  "language_info": {
   "codemirror_mode": {
    "name": "ipython",
    "version": 3
   },
   "file_extension": ".py",
   "mimetype": "text/x-python",
   "name": "python",
   "nbconvert_exporter": "python",
   "pygments_lexer": "ipython3",
   "version": "3.7.6"
  }
 },
 "nbformat": 4,
 "nbformat_minor": 4
}
